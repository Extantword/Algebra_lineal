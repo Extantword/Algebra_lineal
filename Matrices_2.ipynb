{
  "nbformat": 4,
  "nbformat_minor": 0,
  "metadata": {
    "colab": {
      "name": "Matrices_2.ipynb",
      "provenance": [],
      "collapsed_sections": [],
      "toc_visible": true,
      "authorship_tag": "ABX9TyPDNMlT7/J2x8i1FYN/iXgj",
      "include_colab_link": true
    },
    "kernelspec": {
      "name": "python3",
      "display_name": "Python 3"
    }
  },
  "cells": [
    {
      "cell_type": "markdown",
      "metadata": {
        "id": "view-in-github",
        "colab_type": "text"
      },
      "source": [
        "<a href=\"https://colab.research.google.com/github/Extantword/Algebra_lineal/blob/master/Matrices_2.ipynb\" target=\"_parent\"><img src=\"https://colab.research.google.com/assets/colab-badge.svg\" alt=\"Open In Colab\"/></a>"
      ]
    },
    {
      "cell_type": "code",
      "metadata": {
        "id": "DL6peg_ml0Jk",
        "colab_type": "code",
        "colab": {}
      },
      "source": [
        "from sympy import *\n",
        "from IPython.display import Latex\n",
        "init_printing()\n",
        " \n",
        "out = lambda s: display(Latex(s))"
      ],
      "execution_count": 1,
      "outputs": []
    },
    {
      "cell_type": "markdown",
      "metadata": {
        "id": "DgixSw9-2XXX",
        "colab_type": "text"
      },
      "source": [
        ""
      ]
    },
    {
      "cell_type": "markdown",
      "metadata": {
        "id": "RQc0pV2YmChu",
        "colab_type": "text"
      },
      "source": [
        "# $\\text{Multiplicación de matrices}$\n",
        "\n",
        "$\\text{Supongamos que } A \\text{ es una matriz} \\text{ de tamaño } m \\times n \\text{ y } B \\text{ es una matriz de tamaño }n \\times r,\\text{ entonces el producto matricial }$\n",
        "$  C = AB \\text{ es una matriz de tamaño } m \\times r, \\text{donde la entrada } (ij) \\text{ de } C \\text{ está dada por:}$\n",
        "\n",
        "$$c_{ij} = a_{i1}b_{1j} + a_{i2}b_{12} + \\dots + a_{in}b_{nj}$$\n",
        "\n",
        "$\\textbf{Nota: } \\text{Para que el producto de } A \\text{ por } B \\text{ tenga sentido se debe cumplir que el número de columnas de } A \\text{ sea igual al número de filas de } B$\n",
        "\n",
        "$\\text{Si la } i \\text{-ésima fila de A es } \\begin{bmatrix} a_{i1} & a_{i2} & \\cdots & a_{in} \\end{bmatrix} \\text{ y la } j \\text{-ésima columna de } B \\text{ es } \\begin{bmatrix} b_{1j} \\\\ b_{2j} \\\\ \\vdots \\\\ b_{nj} \\end{bmatrix}$\n",
        "\n",
        "$ \\text{entonces la entrada ij de C se computa como el producto punto de estos vectores (vistos como vectores columna) de la siguiente manera:}$\n",
        "\n",
        "$$\\begin{equation*} c_{ij}= \\begin{bmatrix} a_{i1} \\\\ a_{i2} \\\\ \\vdots \\\\ a_{in} \\end{bmatrix} \\cdot \\begin{bmatrix} b_{1j} \\\\ b_{2j} \\\\ \\vdots \\\\ b_{nj} \\end{bmatrix} =a_{i1}b_{1j}+a_{i2}b_{2j}+\\cdots +a_{in}b_{nj}. \\end{equation*} $$ \n",
        "\n"
      ]
    },
    {
      "cell_type": "code",
      "metadata": {
        "id": "93gF9HCPpeZ9",
        "colab_type": "code",
        "colab": {}
      },
      "source": [
        "A = Matrix([[1, 1, 1],\n",
        "            [1, 2, 1]])\n",
        "\n",
        "B = Matrix([[2, 1], \n",
        "            [4, 3], \n",
        "            [5, -1]])"
      ],
      "execution_count": 18,
      "outputs": []
    },
    {
      "cell_type": "markdown",
      "metadata": {
        "id": "F-0CDvQlpRWQ",
        "colab_type": "text"
      },
      "source": [
        "$\\textbf{Ejemplo: } \\text{Calcule, si es posible, } AB \\text{ y } BA.$"
      ]
    },
    {
      "cell_type": "code",
      "metadata": {
        "id": "CH9vu3cDqLnX",
        "colab_type": "code",
        "colab": {
          "base_uri": "https://localhost:8080/",
          "height": 78
        },
        "cellView": "form",
        "outputId": "53f63783-6305-4426-f115-2731945b2900"
      },
      "source": [
        "#@title\n",
        "out(f'A = {latex(A)}' + '\\hspace{1cm}' + f'B = {latex(B)}' + '\\hspace{1cm}' + f'AB = {latex(A * B)}' + '\\hspace{1cm}' + f'BA = {latex(B * A)}' )"
      ],
      "execution_count": 19,
      "outputs": [
        {
          "output_type": "display_data",
          "data": {
            "text/latex": "A = \\left[\\begin{matrix}1 & 1 & 1\\\\1 & 2 & 1\\end{matrix}\\right]\\hspace{1cm}B = \\left[\\begin{matrix}2 & 1\\\\4 & 3\\\\5 & -1\\end{matrix}\\right]\\hspace{1cm}AB = \\left[\\begin{matrix}11 & 3\\\\15 & 6\\end{matrix}\\right]\\hspace{1cm}BA = \\left[\\begin{matrix}3 & 4 & 3\\\\7 & 10 & 7\\\\4 & 3 & 4\\end{matrix}\\right]",
            "text/plain": [
              "<IPython.core.display.Latex object>"
            ]
          },
          "metadata": {
            "tags": []
          }
        }
      ]
    },
    {
      "cell_type": "code",
      "metadata": {
        "id": "M154-YwDqhmt",
        "colab_type": "code",
        "colab": {}
      },
      "source": [
        "A = Matrix([[1, -1, 1, 2],\n",
        "            [0, 1, 0, 1],\n",
        "            [1, 1, 1, 1]])\n",
        "\n",
        "B = Matrix([[1, 1, -1], \n",
        "            [1, 0, -1], \n",
        "            [-1, 1, -1],\n",
        "            [1, 0, -1]])"
      ],
      "execution_count": 20,
      "outputs": []
    },
    {
      "cell_type": "code",
      "metadata": {
        "id": "2kaceDT4r2D2",
        "colab_type": "code",
        "colab": {
          "base_uri": "https://localhost:8080/",
          "height": 99
        },
        "cellView": "form",
        "outputId": "b11e437a-d6e6-4f76-cc7c-65c25c48a7a5"
      },
      "source": [
        "#@title\n",
        "out(f'A = {latex(A)}' + '\\hspace{1cm}' + f'B = {latex(B)}' + '\\hspace{1cm}' + f'AB = {latex(A * B)}' + '\\hspace{1cm}' + f'BA = {latex(B * A)}' )"
      ],
      "execution_count": 23,
      "outputs": [
        {
          "output_type": "display_data",
          "data": {
            "text/latex": "A = \\left[\\begin{matrix}1 & -1 & 1 & 2\\\\0 & 1 & 0 & 1\\\\1 & 1 & 1 & 1\\end{matrix}\\right]\\hspace{1cm}B = \\left[\\begin{matrix}1 & 1 & -1\\\\1 & 0 & -1\\\\-1 & 1 & -1\\\\1 & 0 & -1\\end{matrix}\\right]\\hspace{1cm}AB = \\left[\\begin{matrix}1 & 2 & -3\\\\2 & 0 & -2\\\\2 & 2 & -4\\end{matrix}\\right]\\hspace{1cm}BA = \\left[\\begin{matrix}0 & -1 & 0 & 2\\\\0 & -2 & 0 & 1\\\\-2 & 1 & -2 & -2\\\\0 & -2 & 0 & 1\\end{matrix}\\right]",
            "text/plain": [
              "<IPython.core.display.Latex object>"
            ]
          },
          "metadata": {
            "tags": []
          }
        }
      ]
    },
    {
      "cell_type": "markdown",
      "metadata": {
        "id": "KVSjYY5psUAc",
        "colab_type": "text"
      },
      "source": [
        "$\\textbf{Nota: } \\text{En general, el producto de matrices no es conmutativo.}$"
      ]
    },
    {
      "cell_type": "markdown",
      "metadata": {
        "id": "fqQySc3Lsehk",
        "colab_type": "text"
      },
      "source": [
        "## $\\text{Propiedades del producto de matrices}$\n",
        "\n",
        "$\\text{Sean } A, \\text{ } B \\text{ y } C \\text{ matrices con tamaños tales que las siguientes operaciones son válidas y sea } k \\text{ un escalar. Entonces: } $\n",
        "\n",
        "$$1. \\hspace{0.2cm} A\\left( BC\\right) =\\left( AB\\right) C$$\n",
        "$$2.\\hspace{0.2cm} A\\left( B+C\\right) =AB+AC$$\n",
        "$$3. \\hspace{0.2cm}\\left( A+B\\right) C=AC+BC$$\n",
        "$$4.\\hspace{0.2cm} k\\left( AB\\right) =\\left( kA\\right) B=A\\left( kB\\right) $$\n",
        "$$5.\\hspace{0.2cm} I_{m}A=A=AI_{n}, \\text{ si A es de tamaño }m\\times n$$\n",
        "\n"
      ]
    },
    {
      "cell_type": "code",
      "metadata": {
        "id": "quPsn4e1t05a",
        "colab_type": "code",
        "colab": {}
      },
      "source": [
        "A = Matrix([[1, 1, 5], \n",
        "            [0 ,-1 ,2], \n",
        "            [1, 2, 3]])\n",
        "\n",
        "B = Matrix([[1, 2],\n",
        "            [2, 1], \n",
        "            [5, 6]])\n",
        "\n",
        "C = Matrix([[1, 2],\n",
        "            [0, 5]])"
      ],
      "execution_count": 83,
      "outputs": []
    },
    {
      "cell_type": "markdown",
      "metadata": {
        "id": "KignrpJJuR5q",
        "colab_type": "text"
      },
      "source": [
        "### $\\text{Visualización interactiva de la propiedades del producto de matrices}$"
      ]
    },
    {
      "cell_type": "code",
      "metadata": {
        "id": "Ol8xGoN0uGpg",
        "colab_type": "code",
        "colab": {
          "base_uri": "https://localhost:8080/",
          "height": 78
        },
        "cellView": "form",
        "outputId": "a1ad1165-6b77-48d2-b856-89a30905b5a8"
      },
      "source": [
        "#@title \n",
        "out(f'A = {latex(A)}' + '\\hspace{1cm}' + f'B = {latex(B)}' + '\\hspace{1cm}' + f'C = {latex(C)}')"
      ],
      "execution_count": 84,
      "outputs": [
        {
          "output_type": "display_data",
          "data": {
            "text/latex": "A = \\left[\\begin{matrix}1 & 1 & 5\\\\0 & -1 & 2\\\\1 & 2 & 3\\end{matrix}\\right]\\hspace{1cm}B = \\left[\\begin{matrix}1 & 2\\\\2 & 1\\\\5 & 6\\end{matrix}\\right]\\hspace{1cm}C = \\left[\\begin{matrix}1 & 2\\\\0 & 5\\end{matrix}\\right]",
            "text/plain": [
              "<IPython.core.display.Latex object>"
            ]
          },
          "metadata": {
            "tags": []
          }
        }
      ]
    },
    {
      "cell_type": "code",
      "metadata": {
        "id": "aE68Uuh4uHCs",
        "colab_type": "code",
        "colab": {
          "base_uri": "https://localhost:8080/",
          "height": 174
        },
        "cellView": "form",
        "outputId": "c89980c4-4235-4f35-e412-d1bf17703e2e"
      },
      "source": [
        "#@title Propiedad 1\n",
        "\n",
        "out('A(BC) = ' f'{latex(A)}' + '\\Biggr (' + f'{latex(B)} {latex(C)}' + ' \\Biggl) = ' f'{latex(A)}'  + f'{latex(B * C)} = {latex(A * (B * C))}')\n",
        "print('\\n')\n",
        "out('(AB)C =\\Biggr (' + f'{latex(A)} {latex(B)}' + f' \\Biggl){latex(C)} = {latex(A * B)} {latex(C)} = {latex((A * B) * C)}' )"
      ],
      "execution_count": 85,
      "outputs": [
        {
          "output_type": "display_data",
          "data": {
            "text/latex": "A(BC) = \\left[\\begin{matrix}1 & 1 & 5\\\\0 & -1 & 2\\\\1 & 2 & 3\\end{matrix}\\right]\\Biggr (\\left[\\begin{matrix}1 & 2\\\\2 & 1\\\\5 & 6\\end{matrix}\\right] \\left[\\begin{matrix}1 & 2\\\\0 & 5\\end{matrix}\\right] \\Biggl) = \\left[\\begin{matrix}1 & 1 & 5\\\\0 & -1 & 2\\\\1 & 2 & 3\\end{matrix}\\right]\\left[\\begin{matrix}1 & 12\\\\2 & 9\\\\5 & 40\\end{matrix}\\right] = \\left[\\begin{matrix}28 & 221\\\\8 & 71\\\\20 & 150\\end{matrix}\\right]",
            "text/plain": [
              "<IPython.core.display.Latex object>"
            ]
          },
          "metadata": {
            "tags": []
          }
        },
        {
          "output_type": "stream",
          "text": [
            "\n",
            "\n"
          ],
          "name": "stdout"
        },
        {
          "output_type": "display_data",
          "data": {
            "text/latex": "(AB)C =\\Biggr (\\left[\\begin{matrix}1 & 1 & 5\\\\0 & -1 & 2\\\\1 & 2 & 3\\end{matrix}\\right] \\left[\\begin{matrix}1 & 2\\\\2 & 1\\\\5 & 6\\end{matrix}\\right] \\Biggl)\\left[\\begin{matrix}1 & 2\\\\0 & 5\\end{matrix}\\right] = \\left[\\begin{matrix}28 & 33\\\\8 & 11\\\\20 & 22\\end{matrix}\\right] \\left[\\begin{matrix}1 & 2\\\\0 & 5\\end{matrix}\\right] = \\left[\\begin{matrix}28 & 221\\\\8 & 71\\\\20 & 150\\end{matrix}\\right]",
            "text/plain": [
              "<IPython.core.display.Latex object>"
            ]
          },
          "metadata": {
            "tags": []
          }
        }
      ]
    },
    {
      "cell_type": "code",
      "metadata": {
        "id": "OGA2opIA1v3_",
        "colab_type": "code",
        "colab": {}
      },
      "source": [
        ""
      ],
      "execution_count": null,
      "outputs": []
    }
  ]
}
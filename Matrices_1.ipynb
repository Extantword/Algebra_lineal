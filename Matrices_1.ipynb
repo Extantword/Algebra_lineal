{
  "nbformat": 4,
  "nbformat_minor": 0,
  "metadata": {
    "kernelspec": {
      "display_name": "Python 3",
      "language": "python",
      "name": "python3"
    },
    "language_info": {
      "codemirror_mode": {
        "name": "ipython",
        "version": 3
      },
      "file_extension": ".py",
      "mimetype": "text/x-python",
      "name": "python",
      "nbconvert_exporter": "python",
      "pygments_lexer": "ipython3",
      "version": "3.7.6"
    },
    "colab": {
      "name": "Matrices_1.ipynb",
      "provenance": [],
      "collapsed_sections": [],
      "toc_visible": true,
      "include_colab_link": true
    }
  },
  "cells": [
    {
      "cell_type": "markdown",
      "metadata": {
        "id": "view-in-github",
        "colab_type": "text"
      },
      "source": [
        "<a href=\"https://colab.research.google.com/github/Extantword/Algebra_lineal/blob/master/Matrices_1.ipynb\" target=\"_parent\"><img src=\"https://colab.research.google.com/assets/colab-badge.svg\" alt=\"Open In Colab\"/></a>"
      ]
    },
    {
      "cell_type": "code",
      "metadata": {
        "scrolled": true,
        "id": "ISuXH77j4pm9",
        "colab_type": "code",
        "colab": {}
      },
      "source": [
        "from sympy import *\n",
        "from IPython.display import Latex\n",
        "init_printing()\n",
        " \n",
        "out = lambda s: display(Latex(s))"
      ],
      "execution_count": null,
      "outputs": []
    },
    {
      "cell_type": "markdown",
      "metadata": {
        "id": "jilZRbWt4pnF",
        "colab_type": "text"
      },
      "source": [
        "## Definición\n",
        "$\\text{Una matriz es un arreglo rectangular de números con }$  $m$ $\\text{filas y }n \\text{ columnas de la forma}$\n",
        "\n",
        "$\\begin{equation*} A= \\begin{bmatrix} a_{11} & a_{12} & \\cdots & a_{1n} \\\\ a_{21} & a_{22} & \\cdots & a_{2n} \\\\ \\vdots & \\vdots & \\ddots & \\vdots \\\\ a_{m1} & a_{m2} & \\cdots & a_{mn} \\end{bmatrix}, \\end{equation*}$\n",
        "\n",
        "$\\text{donde $a_{11}$, $a_{12}$,..., $a_{mn}$ son números reales llamados las entradas de la matriz.}$ \n",
        "\n",
        "\n",
        "$\\text{El número $a_{i,j}$ es llamado la entrada $ij$ de la matriz. Nótese que la notación $a_{i,j}$ nos indica que esta entrada}$ \n",
        "\n",
        "$\\text{se ubica en la fila $i-$ésima y columna $j-$ésima, en otra palabras, el primer índice}$\n",
        "\n",
        "$\\text{nos indica el número de la fila correspondiente y el segundo indice el número de la columna correspondiente.}$ \\\\\n",
        "\n",
        " $\\textrm{Usualmente denotaremos a las matrices de la forma}$ $A=\\left[ a_{ij}\\right] _{m\\times n}$"
      ]
    },
    {
      "cell_type": "code",
      "metadata": {
        "id": "Cu9C_Kzj4pnG",
        "colab_type": "code",
        "colab": {}
      },
      "source": [
        "A = Matrix([[-1, 0, 1, 0, -1], \n",
        "            [1, -1, 1, -1, 1],\n",
        "            [3, 1, 0, -2, 3]])\n",
        "\n",
        "B = Matrix([[1, 2], \n",
        "            [3, 4]])\n",
        "\n",
        "C = Matrix([[-1], [0], [1], [0]])\n",
        "\n",
        "D = Matrix([[-1, 1, sqrt(2), Rational(3/2), 1]])"
      ],
      "execution_count": null,
      "outputs": []
    },
    {
      "cell_type": "markdown",
      "metadata": {
        "id": "0tIi1G494pnK",
        "colab_type": "text"
      },
      "source": [
        "## Ejemplo\n",
        "\n",
        "$\\text{Los siguientes son ejemplos de matrices:}$"
      ]
    },
    {
      "cell_type": "code",
      "metadata": {
        "scrolled": false,
        "id": "Rsext5te4pnK",
        "colab_type": "code",
        "cellView": "form",
        "colab": {
          "base_uri": "https://localhost:8080/",
          "height": 99
        },
        "outputId": "294fa0dd-bfd0-48fc-ea49-5acdac729d26"
      },
      "source": [
        "#@title\n",
        "out(f'$A = {latex(A)},' + '\\hspace{1cm}' +  f'B = {latex(B)},' +'\\hspace{1cm}' +  f'C = {latex(C)}, ' + '\\hspace{1cm}' +  f'D = {latex(D)}$')"
      ],
      "execution_count": null,
      "outputs": [
        {
          "output_type": "display_data",
          "data": {
            "text/latex": "$A = \\left[\\begin{matrix}-1 & 0 & 1 & 0 & -1\\\\1 & -1 & 1 & -1 & 1\\\\3 & 1 & 0 & -2 & 3\\end{matrix}\\right],\\hspace{1cm}B = \\left[\\begin{matrix}1 & 2\\\\3 & 4\\end{matrix}\\right],\\hspace{1cm}C = \\left[\\begin{matrix}-1\\\\0\\\\1\\\\0\\end{matrix}\\right], \\hspace{1cm}D = \\left[\\begin{matrix}-1 & 1 & \\sqrt{2} & \\frac{3}{2} & 1\\end{matrix}\\right]$",
            "text/plain": [
              "<IPython.core.display.Latex object>"
            ]
          },
          "metadata": {
            "tags": []
          }
        }
      ]
    },
    {
      "cell_type": "code",
      "metadata": {
        "id": "WP73kinv4pnO",
        "colab_type": "code",
        "colab": {}
      },
      "source": [
        "A_m, A_n = A.shape[0], A.shape[1]\n",
        "B_m, B_n = B.shape[0], B.shape[1]\n",
        "C_m, C_n = C.shape[0], C.shape[1]\n",
        "D_m, D_n = D.shape[0], D.shape[1]"
      ],
      "execution_count": null,
      "outputs": []
    },
    {
      "cell_type": "markdown",
      "metadata": {
        "id": "-9WtnxnK4pnR",
        "colab_type": "text"
      },
      "source": [
        "## Definición\n",
        "\n",
        "$\\text{Una matriz se denomina de tamaño } m \\times n \\text{ si tiene } m \\text{ filas y } n \\text{ columnas}$"
      ]
    },
    {
      "cell_type": "code",
      "metadata": {
        "id": "EtxnAGBo4pnS",
        "colab_type": "code",
        "cellView": "form",
        "colab": {
          "base_uri": "https://localhost:8080/",
          "height": 37
        },
        "outputId": "ff729865-9187-4b87-bdd1-90db4ee47b51"
      },
      "source": [
        "#@title\n",
        "out('\\\\textrm{Las matrices del ejemplo anterior son de tamaños }' + f' {A_m} \\\\times {A_n}, \\\\! {B_m} \\\\times {B_n}, {C_m} \\\\times {C_n},'+ '\\\\text{ y }' + f'{D_m} \\\\times {D_n}' + '\\\\textrm{ respectivamente.}')"
      ],
      "execution_count": null,
      "outputs": [
        {
          "output_type": "display_data",
          "data": {
            "text/latex": "\\textrm{Las matrices del ejemplo anterior son de tamaños } 3 \\times 5, \\! 2 \\times 2, 4 \\times 1,\\text{ y }1 \\times 5\\textrm{ respectivamente.}",
            "text/plain": [
              "<IPython.core.display.Latex object>"
            ]
          },
          "metadata": {
            "tags": []
          }
        }
      ]
    },
    {
      "cell_type": "markdown",
      "metadata": {
        "id": "1cYIzp0x4pnV",
        "colab_type": "text"
      },
      "source": [
        "#### $\\text{Nota}$ \n",
        "$\\text{Una matriz de tamaño } 1 \\times m \\text{ corresponde a un vector fila y una matriz de tamaño  } n \\times 1 \\text{ corresponde a un vector columna.}$\n",
        "\n"
      ]
    },
    {
      "cell_type": "markdown",
      "metadata": {
        "id": "bMwQ6gM4Te-z",
        "colab_type": "text"
      },
      "source": [
        "#### $\\text{Nota}$ \n",
        "$\\text{Si las columnas de A son los vectores }  b_{1},b_{2},\\ldots ,b_{n}, \\textrm{entonces podemos representar a A por }$\n",
        "\n",
        "$A = \\begin{bmatrix} A_{1} \\\\ A_{2} \\\\ \\vdots \\\\ A_{m} \\end{bmatrix}$"
      ]
    },
    {
      "cell_type": "markdown",
      "metadata": {
        "id": "VLkSVZRA4pnW",
        "colab_type": "text"
      },
      "source": [
        "## Definición\n",
        "\n",
        "Sea $A=\\left[ a_{ij}\\right] _{m\\times n}$.\n",
        "\n",
        "1. $\\text{Las entradas diagonales de } A \\text{son las entradas } a_{11}, a_{22}, a_{33},\\ldots ,a_{kk},\\ldots$\n",
        "\n",
        "\n",
        "2. $\\text{Si }m=n \\text{, entonces } A \\text{ se denomina matriz cuadrada de tamaño } n$.\n",
        "\n",
        "\n",
        "3. $\\text{Si }A \\text{ es una matriz cuadrada y todas sus entradas no diagonales son cero, } A \\text{ se denomina una matriz diagonal.}$\n",
        "\n",
        "\n",
        "4. $\\text{Una matriz diagonal en la cual todas las entradas diagonales sean todas iguales se conoce como una matriz escalar}$.\n",
        "\n",
        "\n",
        "5. $\\text{Si el escalar en la diagonal es} 1, \\text{la matriz escalar se llama matriz identidad y es denotada por } I_{n}$.\n",
        "\n"
      ]
    },
    {
      "cell_type": "markdown",
      "metadata": {
        "id": "IRUKSHvR4pnW",
        "colab_type": "text"
      },
      "source": [
        "## Definición\n",
        "\n",
        "$\\text{Dos matrices son iguales si tienen el mismo tamaño y sus entradas correspondientes son iguales}$"
      ]
    },
    {
      "cell_type": "markdown",
      "metadata": {
        "id": "RwVNnq7l4pnX",
        "colab_type": "text"
      },
      "source": [
        "# Operaciones matriciales\n",
        "\n",
        "### Multiplicación por escalar\n",
        "\n",
        "$\\text{Supongamos que}$ $A= \\begin{bmatrix} a_{11} & a_{12} & \\cdots & a_{1n} \\\\ a_{21} & a_{22} & \\cdots & a_{2n} \\\\ \\vdots & \\vdots & \\ddots & \\vdots \\\\ a_{m1} & a_{m2} & \\cdots & a_{mn} \\end{bmatrix}$ $\\text{es una matriz y }$ $c$ $\\text{es un escalar}.$\n",
        "\n",
        "\n",
        "$\\text{Podemos multiplicar a la matriz}$ $A$ $\\text{por el escalar c para obtener una matriz denotada}$ $cA$ $\\text{ que se define como}$\n",
        "\n",
        "\n",
        "$cA= \\begin{bmatrix} ca_{11} & ca_{12} & \\cdots & ca_{1n} \\\\ ca_{21} & ca_{22} & \\cdots & ca_{2n} \\\\ \\vdots & \\vdots & \\ddots & \\vdots \\\\ ca_{m1} & ca_{m2} & \\cdots & ca_{mn} \\end{bmatrix}.$\n",
        "\n",
        "$\\text{En otras palabras, el producto de una matriz por un escalar se realiza componente a componente.}$"
      ]
    },
    {
      "cell_type": "markdown",
      "metadata": {
        "id": "I8Hhq6Tu4pnY",
        "colab_type": "text"
      },
      "source": [
        "### Adición de matrices\n",
        "Supongamos que $ A= \\begin{bmatrix} a_{11} & a_{12} & \\cdots & a_{1n} \\\\ a_{21} & a_{22} & \\cdots & a_{2n} \\\\ \\vdots & \\vdots & \\ddots & \\vdots \\\\ a_{m1} & a_{m2} & \\cdots & a_{mn} \\end{bmatrix} y B= \\begin{bmatrix} b_{11} & b_{12} & \\cdots & b_{1n} \\\\ b_{21} & b_{22} & \\cdots & b_{2n} \\\\ \\vdots & \\vdots & \\ddots & \\vdots \\\\ b_{m1} & b_{m2} & \\cdots & b_{mn} \\end{bmatrix}$ \n",
        "\n",
        "son dos matrices $m\\times n$, su suma $A + B$ es la matriz $m\\times n$ que se define como \n",
        "\n",
        "$A+B=\\begin{bmatrix} a_{11} & a_{12} & \\cdots & a_{1n} \\\\ a_{21} & a_{22} & \\cdots & a_{2n} \\\\ \\vdots & \\vdots & \\ddots & \\vdots \\\\ a_{m1} & a_{m2} & \\cdots & a_{mn} \\end{bmatrix}+\\begin{bmatrix} b_{11} & b_{12} & \\cdots & b_{1n} \\\\ b_{21} & b_{22} & \\cdots & b_{2n} \\\\ \\vdots & \\vdots & \\ddots & \\vdots \\\\ b_{m1} & b_{m2} & \\cdots & b_{mn} \\end{bmatrix}$\n",
        "\n",
        "$=\\begin{bmatrix} a_{11}+b_{11} &a_{12}+ b_{12} & \\cdots & a_{1n}+b_{1n} \\\\ a_{21}+b_{21} & a_{22}+b_{22} & \\cdots & a_{2n}+b_{2n} \\\\ \\vdots & \\vdots & \\ddots & \\vdots \\\\ a_{m1}+b_{m1} &a_{m2}+b_{m2} & \\cdots &a_{mn}+b_{mn} \\end{bmatrix}$.\n",
        "\n",
        "En otras palabras la suma de matrices se realiza componente a componente.\n",
        "\n",
        "#### Nota:\n",
        "\n",
        "Esta operación solamente está definida para matrices del mismo tamaño"
      ]
    },
    {
      "cell_type": "code",
      "metadata": {
        "id": "lK9Otl-b4pnY",
        "colab_type": "code",
        "colab": {}
      },
      "source": [
        "A = Matrix([[0, 0], [-1, 6], [5, 6]])\n",
        "B = Matrix([[0, 0], [-2, 10], [1, 1]])"
      ],
      "execution_count": null,
      "outputs": []
    },
    {
      "cell_type": "markdown",
      "metadata": {
        "id": "wpGwMWSs4pnc",
        "colab_type": "text"
      },
      "source": [
        "# Ejemplo: "
      ]
    },
    {
      "cell_type": "code",
      "metadata": {
        "id": "7IDJx2Lm4pnc",
        "colab_type": "code",
        "cellView": "form",
        "colab": {
          "base_uri": "https://localhost:8080/",
          "height": 78
        },
        "outputId": "04e6108d-caf4-4d7f-ef21-aa97b6562698"
      },
      "source": [
        "#@title \n",
        "out('\\\\text{Si }' + f'A = {latex(A)}' +  '\\\\text{ y }' + f'B = {latex(B)}' + '\\\\text{, entonces A + B = }' + f'{latex(A + B)}')"
      ],
      "execution_count": null,
      "outputs": [
        {
          "output_type": "display_data",
          "data": {
            "text/latex": "\\text{Si }A = \\left[\\begin{matrix}0 & 0\\\\-1 & 6\\\\5 & 6\\end{matrix}\\right]\\text{ y }B = \\left[\\begin{matrix}0 & 0\\\\-2 & 10\\\\1 & 1\\end{matrix}\\right]\\text{, entonces A + B = }\\left[\\begin{matrix}0 & 0\\\\-3 & 16\\\\6 & 7\\end{matrix}\\right]",
            "text/plain": [
              "<IPython.core.display.Latex object>"
            ]
          },
          "metadata": {
            "tags": []
          }
        }
      ]
    },
    {
      "cell_type": "markdown",
      "metadata": {
        "id": "w1sA7qQt4pnf",
        "colab_type": "text"
      },
      "source": [
        "\n",
        "## Propiedades de la suma de matrices y la multiplicación por escalares:\n",
        "\n",
        "$\\text{Sean } A, B, C \\text{ matrices del mismo tamaño y sean c, d escalares. Entonces:}$\n",
        "\n",
        "1. $A+B=B+A.$\n",
        "2. $\\left( A+B\\right) +C=A+\\left( B+C\\right)$ \n",
        "3. $A+O=O+A=A.$\n",
        "4. $A+\\left( -A\\right) =O.$\n",
        "5. $c\\left( A+B\\right) =cA+cB.$\n",
        "6. $\\left( c+d\\right) A=cA+dA.$\n",
        "7. $c(dA)=\\left( cd\\right) A.$\n",
        "8. $1A=A.$"
      ]
    }
  ]
}